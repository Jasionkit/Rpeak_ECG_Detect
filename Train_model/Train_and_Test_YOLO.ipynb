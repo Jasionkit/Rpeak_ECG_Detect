{
 "cells": [
  {
   "cell_type": "code",
   "execution_count": null,
   "metadata": {},
   "outputs": [],
   "source": [
    "import os,CustomAttention\n",
    "import numpy as np\n",
    "import tensorflow as tf\n",
    "from tensorflow import keras\n",
    "from tensorflow.keras.models import load_model\n",
    "from tensorflow.keras.callbacks import ModelCheckpoint,ReduceLROnPlateau\n",
    "\n",
    "import matplotlib.pyplot as plt\n",
    "%matplotlib inline"
   ]
  },
  {
   "cell_type": "code",
   "execution_count": null,
   "metadata": {},
   "outputs": [],
   "source": [
    "# parse examples\n",
    "def decode(example):\n",
    "    features = {\n",
    "        'ecg': tf.io.FixedLenFeature([4098], tf.float32),\n",
    "        'label': tf.io.FixedLenFeature([16], tf.float32),\n",
    "    }\n",
    "    feature_dict = tf.io.parse_single_example(example,features)\n",
    "    ecg = tf.reshape(feature_dict['ecg'],[4098,1])\n",
    "    label = tf.reshape(feature_dict['label'],[8,2])\n",
    "    return ecg,label"
   ]
  },
  {
   "cell_type": "code",
   "execution_count": null,
   "metadata": {},
   "outputs": [],
   "source": [
    "# initialization\n",
    "sample_size = 2000000\n",
    "LEARNING_RATE = 0.01\n",
    "EPOCH_NUM = 50\n",
    "BATCH_SIZE = 256\n",
    "BUFFER_SIZE = 48000\n",
    "NUM_PARALEEL_CALLS = 8\n",
    "NUM_PARALEEL_READS = 9"
   ]
  },
  {
   "cell_type": "code",
   "execution_count": null,
   "metadata": {},
   "outputs": [],
   "source": [
    "temp= [i for i in os.walk('/tmpdata/train/')][0][2] # get all file path\n",
    "train_files = ['/tmpdata/train/'+file for file in temp]\n",
    "print(train_files)\n",
    "\n",
    "temp = [i for i in os.walk('/tmpdata/val/')][0][2] # get all file path\n",
    "val_files = ['/tmpdata/val/'+file for file in temp]\n",
    "print(val_files)"
   ]
  },
  {
   "cell_type": "code",
   "execution_count": null,
   "metadata": {},
   "outputs": [],
   "source": [
    "dataset_train = tf.data.TFRecordDataset(train_files,num_parallel_reads=NUM_PARALEEL_READS) # load train dataset\n",
    "\n",
    "dataset_train = dataset_train.shuffle(buffer_size = BUFFER_SIZE).repeat() # dataset preprocessing\n",
    "dataset_train = dataset_train.map(decode,num_parallel_calls = NUM_PARALEEL_CALLS)\n",
    "dataset_train = dataset_train.batch(batch_size = BATCH_SIZE)\n",
    "dataset_train = dataset_train.prefetch(4)"
   ]
  },
  {
   "cell_type": "code",
   "execution_count": null,
   "metadata": {},
   "outputs": [],
   "source": [
    "dataset_val = tf.data.TFRecordDataset(val_files) # load val dataset\n",
    "\n",
    "dataset_val = dataset_val.map(decode,num_parallel_calls = NUM_PARALEEL_CALLS) # dataset preprocessing\n",
    "dataset_val = dataset_val.batch(batch_size = 256, drop_remainder=True)"
   ]
  },
  {
   "cell_type": "code",
   "execution_count": null,
   "metadata": {},
   "outputs": [],
   "source": [
    "from tensorflow.keras import backend as K\n",
    "\n",
    "def yolo_loss(y_true, y_pred):\n",
    "    true_x = y_true[...,1]\n",
    "    pred_x = y_pred[...,1]\n",
    "    pred_prob = y_pred[...,0]\n",
    "    object_mask = y_true[...,0]\n",
    "    \n",
    "    object_loss = 3*object_mask*K.square(1-pred_prob)\n",
    "    no_object_loss = 2*(1-object_mask)*K.square(0-pred_prob)\n",
    "    x_loss = 5*object_mask*K.square(true_x-pred_x)\n",
    "    loss = object_loss + no_object_loss + x_loss\n",
    "    return loss"
   ]
  },
  {
   "cell_type": "code",
   "execution_count": null,
   "metadata": {},
   "outputs": [],
   "source": [
    "callbacks = [\n",
    "    ReduceLROnPlateau(monitor='val_loss', factor=0.9,patience=3, mode = 'min', cooldown = 1, min_lr=0.0005),\n",
    "\n",
    "    ModelCheckpoint(filepath = \"../../model/new_yolo_model/model_{epoch:03d}.h5\",\n",
    "                             monitor = 'val_loss', mode = 'min'),\n",
    "]"
   ]
  },
  {
   "cell_type": "code",
   "execution_count": null,
   "metadata": {},
   "outputs": [],
   "source": [
    "yolo = load_model(\"../../model/new_yolo_model/model_yolo.h5\")\n",
    "\n",
    "yolo.compile(\n",
    "    loss=yolo_loss,\n",
    "    optimizer=keras.optimizers.Adam(learning_rate = LEARNING_RATE)\n",
    ")\n",
    "history = yolo.fit(dataset_train,epochs=EPOCH_NUM, steps_per_epoch = sample_size/BATCH_SIZE, \n",
    "                    validation_data=dataset_val,verbose = 1,callbacks=callbacks)"
   ]
  },
  {
   "cell_type": "code",
   "execution_count": null,
   "metadata": {},
   "outputs": [],
   "source": [
    "def plot_metric(rate,size,history):\n",
    "    metrics = [key for key in history.history.keys()][:5] # plot all metric information\n",
    "\n",
    "    for metric in metrics:\n",
    "        fig = plt.figure(figsize=(10,3))\n",
    "        plt.plot(history.history[metric][5:])\n",
    "        plt.plot(history.history[metric][5:])\n",
    "        plt.title(metric+ ' rate: '+str(rate)+' size: '+str(size))\n",
    "        plt.ylabel(metric)\n",
    "        plt.xlabel('epoch')\n",
    "\n",
    "        plt.legend(['train', 'val'], loc='upper left')\n",
    "        plt.show()\n",
    "\n",
    "plot_metric(0.01,256,history)"
   ]
  },
  {
   "cell_type": "code",
   "execution_count": null,
   "metadata": {},
   "outputs": [],
   "source": [
    "#model.save('../../model/yolo_model.h5')"
   ]
  },
  {
   "cell_type": "code",
   "execution_count": 1,
   "metadata": {},
   "outputs": [
    {
     "data": {
      "text/plain": [
       "'a'"
      ]
     },
     "execution_count": 1,
     "metadata": {},
     "output_type": "execute_result"
    }
   ],
   "source": [
    "a = \"\"\n",
    "a += \"a\"\n",
    "a"
   ]
  },
  {
   "cell_type": "code",
   "execution_count": null,
   "metadata": {},
   "outputs": [],
   "source": []
  }
 ],
 "metadata": {
  "kernelspec": {
   "display_name": "Python 3",
   "language": "python",
   "name": "python3"
  },
  "language_info": {
   "codemirror_mode": {
    "name": "ipython",
    "version": 3
   },
   "file_extension": ".py",
   "mimetype": "text/x-python",
   "name": "python",
   "nbconvert_exporter": "python",
   "pygments_lexer": "ipython3",
   "version": "3.7.4"
  }
 },
 "nbformat": 4,
 "nbformat_minor": 2
}
